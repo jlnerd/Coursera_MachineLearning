{
 "cells": [
  {
   "cell_type": "markdown",
   "metadata": {},
   "source": [
    "# Coursera: Machine Learning\n",
    "https://www.coursera.org/learn/machine-learning\n",
    "\n",
    "This repo contains my coursework from the Coursera Machine Learning course, taught by Andrew Ing. \n",
    "\n",
    "The course is an introduction to machine learning with the coding exercises done in Matlab.\n",
    "\n",
    "### Table of Contents for Exercises:\n",
    "1. Linear Regression\n",
    "2. Logistic Regression\n",
    "3. Multi-classificiation and Neural Networks\n",
    "4. Neural Network Learning\n",
    "5. Regularized Linear Regression and Bias/Variance\n",
    "6. Support Vector Machines\n",
    "7. K-means Clustering and PCA\n",
    "8. Anomaly Detection and Recommender Systems"
   ]
  }
 ],
 "metadata": {
  "kernelspec": {
   "display_name": "Python 3",
   "language": "python",
   "name": "python3"
  },
  "language_info": {
   "codemirror_mode": {
    "name": "ipython",
    "version": 3
   },
   "file_extension": ".py",
   "mimetype": "text/x-python",
   "name": "python",
   "nbconvert_exporter": "python",
   "pygments_lexer": "ipython3",
   "version": "3.6.5"
  }
 },
 "nbformat": 4,
 "nbformat_minor": 2
}
